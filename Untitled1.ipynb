{
  "nbformat": 4,
  "nbformat_minor": 0,
  "metadata": {
    "colab": {
      "provenance": [],
      "authorship_tag": "ABX9TyMjYw7855sqVUhLlELRuGFf",
      "include_colab_link": true
    },
    "kernelspec": {
      "name": "python3",
      "display_name": "Python 3"
    },
    "language_info": {
      "name": "python"
    }
  },
  "cells": [
    {
      "cell_type": "markdown",
      "metadata": {
        "id": "view-in-github",
        "colab_type": "text"
      },
      "source": [
        "<a href=\"https://colab.research.google.com/github/arsskill/Parser/blob/master/Untitled1.ipynb\" target=\"_parent\"><img src=\"https://colab.research.google.com/assets/colab-badge.svg\" alt=\"Open In Colab\"/></a>"
      ]
    },
    {
      "cell_type": "code",
      "execution_count": null,
      "metadata": {
        "id": "KOUTzT6nRu-z"
      },
      "outputs": [],
      "source": [
        "print(2**1500)\n",
        "\n",
        "print('A'*121)\n",
        "\n",
        "print(int('1500'*40)**2)\n",
        "\n",
        "var_task_4 = int(input())\n",
        "print(f'The next number for the number {var_task_4} is {var_task_4 + 1}.')\n",
        "print(f'The previous number for the number {var_task_4} is {var_task_4 - 1}.')\n",
        "\n",
        "var_task_5 = int(input())\n",
        "print(var_task_5//10%10)\n",
        "\n",
        "var_task_6 = int(input())\n",
        "print(var_task_6//100%10 + var_task_6//10%10 + var_task_6%10)\n",
        "\n",
        "var_task_7 = int(input())\n",
        "print(var_task_7//2 * 2 + 2)\n",
        "\n",
        "var_task_8_v = int(input())\n",
        "var_task_8_t = int(input())\n",
        "s = 109\n",
        "x = var_task_8_v * var_task_8_t % s\n",
        "print(x)\n",
        "\n",
        "var_task_9_A = int(input())\n",
        "var_task_9_B = int(input())\n",
        "var_task_9_N = int(input())\n",
        "cost = var_task_9_N * (100 * var_task_9_A + var_task_9_B)\n",
        "print(cost//100, cost%100)\n",
        "\n",
        "var_task_10 = int(input())\n",
        "print(1-var_task_10)\n",
        "\n",
        "var_task_11 = int(input())\n",
        "n = var_task_11 % (24*60)\n",
        "print(n//60, n%60)\n",
        "\n",
        "var_task_12_n = int(input())\n",
        "var_task_12_m = int(input())\n",
        "print(var_task_12_m // var_task_12_n + 1)\n",
        "\n",
        "var_task_13 = int(input())\n",
        "p1 = var_task_13 // 100\n",
        "p2 = var_task_13 % 100\n",
        "p2 = p2 % 10 * 10 + p2 // 10\n",
        "print(p2 - p1 + 1)\n",
        "\n",
        "var_task_14 = int(input())\n",
        "print(var_task_14 % 2)\n",
        "\n",
        "var_task_15_a = int(input())\n",
        "var_task_15_b = int(input())\n",
        "print((var_task_15_a + var_task_15_b) - 2 * var_task_15_b * ((var_task_15_a-var_task_15_b) % 2))"
      ]
    }
  ]
}
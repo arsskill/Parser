{
  "nbformat": 4,
  "nbformat_minor": 0,
  "metadata": {
    "colab": {
      "provenance": [],
      "authorship_tag": "ABX9TyM9UB10T64vPkneylTqH31B",
      "include_colab_link": true
    },
    "kernelspec": {
      "name": "python3",
      "display_name": "Python 3"
    },
    "language_info": {
      "name": "python"
    }
  },
  "cells": [
    {
      "cell_type": "markdown",
      "metadata": {
        "id": "view-in-github",
        "colab_type": "text"
      },
      "source": [
        "<a href=\"https://colab.research.google.com/github/arsskill/Parser/blob/master/Untitled0.ipynb\" target=\"_parent\"><img src=\"https://colab.research.google.com/assets/colab-badge.svg\" alt=\"Open In Colab\"/></a>"
      ]
    },
    {
      "cell_type": "code",
      "execution_count": 6,
      "metadata": {
        "colab": {
          "base_uri": "https://localhost:8080/",
          "height": 0
        },
        "id": "nIvWvABLAJ1d",
        "outputId": "0a895f3d-e15d-4d43-dbc0-f281f26c324a"
      },
      "outputs": [
        {
          "output_type": "stream",
          "name": "stdout",
          "text": [
            "4\n",
            "3\n",
            "5\n",
            "4 3 5 rectangular\n"
          ]
        }
      ],
      "source": [
        "15. \n",
        "a = int(input())\n",
        "b = int(input())\n",
        "c = int(input())\n",
        "if(c**2==a**2+b**2):\n",
        "  print(a,b,c,\"rectangular\")\n",
        "elif(c**2>a**2+b**2):\n",
        "  print(a,b,c,\"acute\")\n",
        "elif(c**2<a**2+b**2):\n",
        "  print(a,b,c,\"acute\")\n",
        "else:\n",
        "  print(a,b,c,\"incorrect\")"
      ]
    },
    {
      "cell_type": "code",
      "source": [
        "a = int(input())\n",
        "b = int(input())\n",
        "c = int(input())\n",
        "t = False\n",
        "y = False\n",
        "if(a % 2==0):\n",
        "  print(a,\"chetnoye\")\n",
        "if(b % 2==0):\n",
        "  print(b,\"chetnoye\")\n",
        "if(c % 2==0):\n",
        "  print(c,\"chetnoye\")\n",
        "\n",
        "if(a % 2!=0):\n",
        "  print(a,\"nechetnoye\")\n",
        "if(b % 2!=0):\n",
        "  print(b,\"nechetnoye\")\n",
        "if(c % 2!=0):\n",
        "  print(c,\"nechetnoye\")\n",
        "if(a % 2==0 or b % 2==0 or c % 2==0):\n",
        "  t = True\n",
        "if(a % 2!=0 or b % 2!=0 or c % 2!=0):\n",
        "  y = True\n",
        "if(t and y):\n",
        "  print(\"yes\")\n",
        "else:\n",
        "  print(\"no\")\n"
      ],
      "metadata": {
        "colab": {
          "base_uri": "https://localhost:8080/",
          "height": 0
        },
        "id": "9W2pVvdvIxg6",
        "outputId": "e48ebad5-1440-4ee6-8401-643ee43d0723"
      },
      "execution_count": 16,
      "outputs": [
        {
          "output_type": "stream",
          "name": "stdout",
          "text": [
            "1\n",
            "3\n",
            "5\n",
            "1 nechetnoye\n",
            "3 nechetnoye\n",
            "5 nechetnoye\n",
            "no\n"
          ]
        }
      ]
    },
    {
      "cell_type": "code",
      "source": [
        "16.\n",
        "a = int(input())\n",
        "b = int(input())\n",
        "c = int(input())\n",
        "d = int(input())\n",
        "if a == 0 and b == 0:\n",
        "    print('INF')\n",
        "elif a == 0 or b * c == a * d:\n",
        "    print('NO')\n",
        "elif b % a == 0:\n",
        "    x = -b // a\n",
        "    print(x)\n",
        "else:\n",
        "    print('NO')"
      ],
      "metadata": {
        "id": "1ks1pp5lMovj"
      },
      "execution_count": null,
      "outputs": []
    },
    {
      "cell_type": "code",
      "source": [
        "9.\n",
        "x1 = int(input())\n",
        "y1 = int(input())\n",
        "x2 = int(input())\n",
        "y2 = int(input())\n",
        "if (x1 * x2) > 0 and (y1 * y2) > 0:\n",
        "  print('YES')\n",
        "else:\n",
        "  print('NO')"
      ],
      "metadata": {
        "id": "m4y76FcjM5OR"
      },
      "execution_count": null,
      "outputs": []
    },
    {
      "cell_type": "code",
      "source": [
        "8.\n",
        "alphabet = ['a','e','i','o','u']\n",
        "b = input()\n",
        "if b in alphabet:\n",
        "  print('гласная')\n",
        "elif b == 'y':\n",
        "  print('гласная согласная')\n",
        "else:\n",
        "  print('согласная')"
      ],
      "metadata": {
        "id": "WE4GPrg2NEkk"
      },
      "execution_count": null,
      "outputs": []
    },
    {
      "cell_type": "code",
      "source": [
        "13.\n",
        "a = int(input())\n",
        "b = int(input())\n",
        "c = int(input())\n",
        "if a>c:\n",
        "  max=a\n",
        "else:\n",
        "  max=b\n",
        "if c>max:\n",
        "  max=c\n",
        "if max == a:\n",
        "  t=a\n",
        "  a=c\n",
        "  c=t\n",
        "  print(a,b,c)\n",
        "if max == b:\n",
        "  t=b\n",
        "  b=c\n",
        "  c=t\n",
        "  print(a,b,c)\n",
        "else:\n",
        "  print(a,b,c)\n",
        "\n"
      ],
      "metadata": {
        "colab": {
          "base_uri": "https://localhost:8080/",
          "height": 0
        },
        "id": "X2k3ttQLNHCs",
        "outputId": "d52e2e67-0201-415a-c768-78eda12994b0"
      },
      "execution_count": 25,
      "outputs": [
        {
          "output_type": "stream",
          "name": "stdout",
          "text": [
            "3\n",
            "4\n",
            "5\n",
            "3 4 5\n"
          ]
        }
      ]
    },
    {
      "cell_type": "code",
      "source": [
        "#10\n",
        "x1 = int(input())\n",
        "y1 = int(input())\n",
        "\n",
        "x2 = int(input())\n",
        "y2 = int(input())\n",
        "\n",
        "if x1 == x2 or y1 == y2:\n",
        "    print('YES')\n",
        "else:\n",
        "    print('NO')"
      ],
      "metadata": {
        "id": "svB6XTl7Q-S6"
      },
      "execution_count": null,
      "outputs": []
    },
    {
      "cell_type": "code",
      "source": [
        "#1\n",
        "number = input()\n",
        "if len(number) == 1:\n",
        "  print('0')\n",
        "else: \n",
        "  print(number[-2])\n",
        "\n",
        "#2\n",
        "number = input()\n",
        "print(int(number[0]) + int(number[1]) + int(number[2]))\n",
        "\n",
        "#3\n",
        "number = input()\n",
        "if not len(number) == 4:\n",
        "  new_number = '0'*(4 - len(number)) + number\n",
        "else:\n",
        "  new_number = number \n",
        "if new_number[0:2] == new_number[4:1:-1]:\n",
        "  print('1')\n",
        "else:\n",
        "  print('random')\n",
        "\n",
        "#4\n",
        "a = int(input())\n",
        "b = int(input())\n",
        "if a >= b:\n",
        "  print(a)\n",
        "else:\n",
        "  print(b)\n",
        "\n",
        "#5\n",
        "year = int(input())\n",
        "if (year % 4 == 0 and year % 100 != 0) or (year % 400 == 0):\n",
        "  print('YES')\n",
        "else:\n",
        "  print('NO')\n",
        "\n",
        "#6\n",
        "a = int(input())\n",
        "b = int(input())\n",
        "if a > b:\n",
        "  print('1')\n",
        "elif b > a:\n",
        "  print('2')\n",
        "else:\n",
        "  print('0')\n",
        "\n",
        "#7\n",
        "a = int(input())\n",
        "b = int(input())\n",
        "c = int(input())\n",
        "if a>c:\n",
        "  max=a\n",
        "else:\n",
        "  max=b\n",
        "if c>max:\n",
        "  max=c\n",
        "print(max)"
      ],
      "metadata": {
        "id": "oO1kvxXGRHBS"
      },
      "execution_count": null,
      "outputs": []
    },
    {
      "cell_type": "code",
      "source": [
        "n = int(input())\n",
        "m = int(input())\n",
        "k = int(input())\n",
        "if ((k % m == 0) or (k % n == 0)) and k < n * m:\n",
        "    print('YES')\n",
        "else:\n",
        "    print('NO')"
      ],
      "metadata": {
        "id": "SlB3HUeoUQq1"
      },
      "execution_count": null,
      "outputs": []
    },
    {
      "cell_type": "code",
      "source": [
        "#12\n",
        "n = int(input())\n",
        "if n%10 == 1:\n",
        "  phrase = f'{n} корова'\n",
        "elif n%5 == 0:\n",
        "  phrase = f'{n} коров'\n",
        "else:\n",
        "  phrase = f'{n} коровы'\n",
        "print(f'На лугу пасётся {phrase}')"
      ],
      "metadata": {
        "id": "MakSJW_yPEkk"
      },
      "execution_count": null,
      "outputs": []
    }
  ]
}